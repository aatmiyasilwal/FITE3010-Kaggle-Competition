{
 "cells": [
  {
   "cell_type": "markdown",
   "metadata": {},
   "source": [
    "#### TMDB Box Office Prediction:\n",
    "* Description: In this competition, you're presented with metadata on over 7,000 past films from The Movie Database to try and predict their overall\n",
    "worldwide box office revenue.\n",
    "* Data points provided include cast, crew, plot keywords, budget, posters, release dates, languages, production companies, and countries.\n",
    "* You can also collect other public data to make the prediction."
   ]
  },
  {
   "cell_type": "markdown",
   "metadata": {},
   "source": [
    "##### Download the data through the API\n",
    "\n",
    "`! pip install kaggle`  \n",
    "`! kaggle competitions download -c tmdb-box-office-prediction`\n",
    "\n",
    "For this, we need to ensure that the necessary requirements are setup accordingly. More information [here](https://github.com/Kaggle/kaggle-api)."
   ]
  },
  {
   "cell_type": "markdown",
   "metadata": {},
   "source": [
    "### !!! IMPORTANT\n",
    "\n",
    "- https://www.kaggle.com/code/praxitelisk/tmdb-box-office-prediction-eda-ml/notebook (indepth analysis: mostly use this for our project).\n",
    "- https://medium.com/@prabhakaran_arivalagan/kaggle-competition-tmdb-box-office-prediction-using-random-forest-a2059be7bfff (bit more intuitive)\n",
    "- https://github.com/nickmitch21/TMDB-Box-Office-Prediction/tree/master (other people's attempts)"
   ]
  },
  {
   "cell_type": "code",
   "execution_count": null,
   "metadata": {},
   "outputs": [],
   "source": [
    "#preproceess data onto clean format"
   ]
  },
  {
   "cell_type": "code",
   "execution_count": null,
   "metadata": {},
   "outputs": [],
   "source": [
    "#Exploratory Data Analysis beforehand"
   ]
  },
  {
   "cell_type": "code",
   "execution_count": null,
   "metadata": {},
   "outputs": [],
   "source": [
    "#train model #1 (Random Forest) and run prediction on test set"
   ]
  },
  {
   "cell_type": "code",
   "execution_count": null,
   "metadata": {},
   "outputs": [],
   "source": [
    "#train model #2 (simple Linear Regression) and run prediction on test set"
   ]
  },
  {
   "cell_type": "code",
   "execution_count": null,
   "metadata": {},
   "outputs": [],
   "source": [
    "#compare performance of two models"
   ]
  },
  {
   "cell_type": "markdown",
   "metadata": {},
   "source": [
    "#### Final Wrapup"
   ]
  }
 ],
 "metadata": {
  "language_info": {
   "name": "python"
  },
  "orig_nbformat": 4
 },
 "nbformat": 4,
 "nbformat_minor": 2
}
